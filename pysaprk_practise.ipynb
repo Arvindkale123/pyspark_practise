{
  "nbformat": 4,
  "nbformat_minor": 0,
  "metadata": {
    "colab": {
      "provenance": [],
      "mount_file_id": "1OQbyy21YN4K6JMcfT_DPuEFveYYlQ12K",
      "authorship_tag": "ABX9TyPQRnSDC+n5SS9HUFwAZHm0",
      "include_colab_link": true
    },
    "kernelspec": {
      "name": "python3",
      "display_name": "Python 3"
    },
    "language_info": {
      "name": "python"
    }
  },
  "cells": [
    {
      "cell_type": "markdown",
      "metadata": {
        "id": "view-in-github",
        "colab_type": "text"
      },
      "source": [
        "<a href=\"https://colab.research.google.com/github/Arvindkale123/pyspark_practise/blob/main/pysaprk_practise.ipynb\" target=\"_parent\"><img src=\"https://colab.research.google.com/assets/colab-badge.svg\" alt=\"Open In Colab\"/></a>"
      ]
    },
    {
      "cell_type": "code",
      "source": [
        "!pip install pyspark py4j"
      ],
      "metadata": {
        "id": "FFwqB72fAe6Y",
        "colab": {
          "base_uri": "https://localhost:8080/"
        },
        "outputId": "c5498d2d-8393-4f85-ba8c-ad9dc70989b9"
      },
      "execution_count": 2,
      "outputs": [
        {
          "output_type": "stream",
          "name": "stdout",
          "text": [
            "Looking in indexes: https://pypi.org/simple, https://us-python.pkg.dev/colab-wheels/public/simple/\n",
            "Collecting pyspark\n",
            "  Downloading pyspark-3.3.0.tar.gz (281.3 MB)\n",
            "\u001b[K     |████████████████████████████████| 281.3 MB 47 kB/s \n",
            "\u001b[?25hCollecting py4j\n",
            "  Downloading py4j-0.10.9.7-py2.py3-none-any.whl (200 kB)\n",
            "\u001b[K     |████████████████████████████████| 200 kB 40.0 MB/s \n",
            "\u001b[?25h  Downloading py4j-0.10.9.5-py2.py3-none-any.whl (199 kB)\n",
            "\u001b[K     |████████████████████████████████| 199 kB 47.2 MB/s \n",
            "\u001b[?25hBuilding wheels for collected packages: pyspark\n",
            "  Building wheel for pyspark (setup.py) ... \u001b[?25l\u001b[?25hdone\n",
            "  Created wheel for pyspark: filename=pyspark-3.3.0-py2.py3-none-any.whl size=281764026 sha256=f672bf59087b98da1dc2745434fd7b84248723de7f1dc4eaf0f958e88a10ba31\n",
            "  Stored in directory: /root/.cache/pip/wheels/7a/8e/1b/f73a52650d2e5f337708d9f6a1750d451a7349a867f928b885\n",
            "Successfully built pyspark\n",
            "Installing collected packages: py4j, pyspark\n",
            "Successfully installed py4j-0.10.9.5 pyspark-3.3.0\n"
          ]
        }
      ]
    },
    {
      "cell_type": "code",
      "source": [
        "from pyspark.sql import SparkSession"
      ],
      "metadata": {
        "id": "wnUS6WuMz7Ab"
      },
      "execution_count": 3,
      "outputs": []
    },
    {
      "cell_type": "code",
      "source": [
        "spark=SparkSession.builder.appName(\"test_pysaprk\").getOrCreate()"
      ],
      "metadata": {
        "id": "XupzPEhl0Rnv"
      },
      "execution_count": 4,
      "outputs": []
    },
    {
      "cell_type": "code",
      "source": [
        "df=spark.read.csv('/content/drive/MyDrive/pyspark_course/fake_customers.csv')"
      ],
      "metadata": {
        "id": "fiwwylh70p4V"
      },
      "execution_count": 5,
      "outputs": []
    },
    {
      "cell_type": "code",
      "source": [
        "df.show()"
      ],
      "metadata": {
        "id": "6iDvdMa12hE5",
        "colab": {
          "base_uri": "https://localhost:8080/"
        },
        "outputId": "bfcc1001-16f5-4c38-b8eb-0b1851131a98"
      },
      "execution_count": 6,
      "outputs": [
        {
          "output_type": "stream",
          "name": "stdout",
          "text": [
            "+------------------+---------------+--------------------+--------------------+-------+----+-----+\n",
            "|               _c0|            _c1|                 _c2|                 _c3|    _c4| _c5|  _c6|\n",
            "+------------------+---------------+--------------------+--------------------+-------+----+-----+\n",
            "|             Names|            Age|               Phone|            Location|Company| Lot|Sales|\n",
            "|    Chelsea Taylor|           46.0| 1-431-660-1615x8629|064 Stone Neck Ap...|   null|null| null|\n",
            "|    East Debrabury|      FM 63246\"|      Bentley-Waller|               07 bz|      0|null| null|\n",
            "|   Pamela Williams|           38.0|   (101)883-0724x491|    5182 Emily Spurs|   null|null| null|\n",
            "|      West Lindsey|      PA 79975\"|         Gomez Group|               21 cB|      0|null| null|\n",
            "|   Kristi Sandoval|           41.0|    +99(4)3518374928|367 Nelson Garden...|   null|null| null|\n",
            "|         Ochoaview|      MT 25437\"|Thomas, Brown and...|               25 to|      0|null| null|\n",
            "|     Ashley Morris|           45.0|    939-770-5901x336|   66532 Harris Loop|   null|null| null|\n",
            "|        West Susan| PR 68272-6257\"|Banks, Mendez and...|               46 rn|      0|null| null|\n",
            "|     Dwayne Nguyen|           48.0|        468-328-7711|     418 Martin Mall|   null|null| null|\n",
            "|          New John|      MN 64235\"|      Phelps-Bentley|               97 lr|      0|null| null|\n",
            "|   Benjamin Nelson|           43.0|   257.443.9817x9922|  Unit 2069 Box 9542|   null|null| null|\n",
            "|DPO AA 81875-0608\"|  Madden-Murphy|               76 YB|                   0|   null|null| null|\n",
            "|    Tanya Mcdonald|           40.0|    985.525.6864x365|  PSC 1888, Box 7629|   null|null| null|\n",
            "|APO AE 68066-4189\"|  Morgan-Wilson|               74 HU|                   0|   null|null| null|\n",
            "|    Ashley Mullins|           34.0|   231-482-7034x4744|9819 Flores Orcha...|   null|null| null|\n",
            "|       Markchester| NE 71752-6833\"|Hall, Romero and ...|               75 Ty|      0|null| null|\n",
            "|  David Hutchinson|           39.0|        932.142.2276|  Unit 8564 Box 6806|   null|null| null|\n",
            "|     DPO AE 41715\"|      Hanna Ltd|               84 Ho|                   0|   null|null| null|\n",
            "|      Kayla Arnold|           31.0|    550.464.0343x938|9296 Matthew Oval...|   null|null| null|\n",
            "+------------------+---------------+--------------------+--------------------+-------+----+-----+\n",
            "only showing top 20 rows\n",
            "\n"
          ]
        }
      ]
    },
    {
      "cell_type": "code",
      "source": [
        "df.printSchema()"
      ],
      "metadata": {
        "colab": {
          "base_uri": "https://localhost:8080/"
        },
        "id": "pWvL6LZOfyr1",
        "outputId": "8da3d2ec-1fea-48b4-9c9c-f58355816cbe"
      },
      "execution_count": 7,
      "outputs": [
        {
          "output_type": "stream",
          "name": "stdout",
          "text": [
            "root\n",
            " |-- _c0: string (nullable = true)\n",
            " |-- _c1: string (nullable = true)\n",
            " |-- _c2: string (nullable = true)\n",
            " |-- _c3: string (nullable = true)\n",
            " |-- _c4: string (nullable = true)\n",
            " |-- _c5: string (nullable = true)\n",
            " |-- _c6: string (nullable = true)\n",
            "\n"
          ]
        }
      ]
    },
    {
      "cell_type": "code",
      "source": [
        "df.columns"
      ],
      "metadata": {
        "colab": {
          "base_uri": "https://localhost:8080/"
        },
        "id": "j4Rp3DnBf5zJ",
        "outputId": "f34c33b9-a8ae-4a7a-b593-50fe39fb2e9a"
      },
      "execution_count": 8,
      "outputs": [
        {
          "output_type": "execute_result",
          "data": {
            "text/plain": [
              "['_c0', '_c1', '_c2', '_c3', '_c4', '_c5', '_c6']"
            ]
          },
          "metadata": {},
          "execution_count": 8
        }
      ]
    },
    {
      "cell_type": "code",
      "source": [
        "df.describe()"
      ],
      "metadata": {
        "colab": {
          "base_uri": "https://localhost:8080/"
        },
        "id": "2Vssc1cAgE0-",
        "outputId": "d1f75c89-ef42-45c0-a5d9-27a20e466705"
      },
      "execution_count": 9,
      "outputs": [
        {
          "output_type": "execute_result",
          "data": {
            "text/plain": [
              "DataFrame[summary: string, _c0: string, _c1: string, _c2: string, _c3: string, _c4: string, _c5: string, _c6: string]"
            ]
          },
          "metadata": {},
          "execution_count": 9
        }
      ]
    },
    {
      "cell_type": "code",
      "source": [
        "df.describe().show()"
      ],
      "metadata": {
        "colab": {
          "base_uri": "https://localhost:8080/"
        },
        "id": "Ct4JNocrgKjq",
        "outputId": "83dbb9a1-cb08-4f6c-e50a-1b2e0de32119"
      },
      "execution_count": 10,
      "outputs": [
        {
          "output_type": "stream",
          "name": "stdout",
          "text": [
            "+-------+------------------+-----------------+-----------------+------------------+-------+----+-----+\n",
            "|summary|               _c0|              _c1|              _c2|               _c3|    _c4| _c5|  _c6|\n",
            "+-------+------------------+-----------------+-----------------+------------------+-------+----+-----+\n",
            "|  count|                31|               31|               31|                31|     12|   1|    1|\n",
            "|   mean|              null|             39.0|             null|               0.0|    0.0|null| null|\n",
            "| stddev|              null|6.676183683170241|             null|               0.0|    0.0|null| null|\n",
            "|    min|APO AE 68066-4189\"|        DE 21409\"|(101)883-0724x491|                 0|      0| Lot|Sales|\n",
            "|    max|        West Susan| Patterson-Burton|   Young and Sons|Unit 8732 Box 8363|Company| Lot|Sales|\n",
            "+-------+------------------+-----------------+-----------------+------------------+-------+----+-----+\n",
            "\n"
          ]
        }
      ]
    },
    {
      "cell_type": "code",
      "source": [
        "df.select('_c0').show()"
      ],
      "metadata": {
        "colab": {
          "base_uri": "https://localhost:8080/"
        },
        "id": "9xg1ntDagQ8-",
        "outputId": "ff536403-44e7-457a-ac1c-30cab5383254"
      },
      "execution_count": 11,
      "outputs": [
        {
          "output_type": "stream",
          "name": "stdout",
          "text": [
            "+------------------+\n",
            "|               _c0|\n",
            "+------------------+\n",
            "|             Names|\n",
            "|    Chelsea Taylor|\n",
            "|    East Debrabury|\n",
            "|   Pamela Williams|\n",
            "|      West Lindsey|\n",
            "|   Kristi Sandoval|\n",
            "|         Ochoaview|\n",
            "|     Ashley Morris|\n",
            "|        West Susan|\n",
            "|     Dwayne Nguyen|\n",
            "|          New John|\n",
            "|   Benjamin Nelson|\n",
            "|DPO AA 81875-0608\"|\n",
            "|    Tanya Mcdonald|\n",
            "|APO AE 68066-4189\"|\n",
            "|    Ashley Mullins|\n",
            "|       Markchester|\n",
            "|  David Hutchinson|\n",
            "|     DPO AE 41715\"|\n",
            "|      Kayla Arnold|\n",
            "+------------------+\n",
            "only showing top 20 rows\n",
            "\n"
          ]
        }
      ]
    },
    {
      "cell_type": "code",
      "source": [
        "df.head(2)[0]"
      ],
      "metadata": {
        "colab": {
          "base_uri": "https://localhost:8080/"
        },
        "id": "t_6kA_9chQRr",
        "outputId": "65f56152-5127-4296-ebec-672a42310322"
      },
      "execution_count": 12,
      "outputs": [
        {
          "output_type": "execute_result",
          "data": {
            "text/plain": [
              "Row(_c0='Names', _c1='Age', _c2='Phone', _c3='Location', _c4='Company', _c5='Lot', _c6='Sales')"
            ]
          },
          "metadata": {},
          "execution_count": 12
        }
      ]
    },
    {
      "cell_type": "code",
      "source": [
        "df.select(['_c0','_c1']).show()"
      ],
      "metadata": {
        "colab": {
          "base_uri": "https://localhost:8080/"
        },
        "id": "Q3hTEP-2hggn",
        "outputId": "4a5d4cd0-8dac-44f0-bfdf-94a5db4ea0e3"
      },
      "execution_count": 13,
      "outputs": [
        {
          "output_type": "stream",
          "name": "stdout",
          "text": [
            "+------------------+---------------+\n",
            "|               _c0|            _c1|\n",
            "+------------------+---------------+\n",
            "|             Names|            Age|\n",
            "|    Chelsea Taylor|           46.0|\n",
            "|    East Debrabury|      FM 63246\"|\n",
            "|   Pamela Williams|           38.0|\n",
            "|      West Lindsey|      PA 79975\"|\n",
            "|   Kristi Sandoval|           41.0|\n",
            "|         Ochoaview|      MT 25437\"|\n",
            "|     Ashley Morris|           45.0|\n",
            "|        West Susan| PR 68272-6257\"|\n",
            "|     Dwayne Nguyen|           48.0|\n",
            "|          New John|      MN 64235\"|\n",
            "|   Benjamin Nelson|           43.0|\n",
            "|DPO AA 81875-0608\"|  Madden-Murphy|\n",
            "|    Tanya Mcdonald|           40.0|\n",
            "|APO AE 68066-4189\"|  Morgan-Wilson|\n",
            "|    Ashley Mullins|           34.0|\n",
            "|       Markchester| NE 71752-6833\"|\n",
            "|  David Hutchinson|           39.0|\n",
            "|     DPO AE 41715\"|      Hanna Ltd|\n",
            "|      Kayla Arnold|           31.0|\n",
            "+------------------+---------------+\n",
            "only showing top 20 rows\n",
            "\n"
          ]
        }
      ]
    },
    {
      "cell_type": "code",
      "source": [
        "data=spark.read.csv('/content/drive/MyDrive/pyspark_course/appl_stock.csv',inferSchema=True,header=True)"
      ],
      "metadata": {
        "id": "GamDAhB4h241"
      },
      "execution_count": 14,
      "outputs": []
    },
    {
      "cell_type": "code",
      "source": [
        "data.show()"
      ],
      "metadata": {
        "colab": {
          "base_uri": "https://localhost:8080/"
        },
        "id": "z3NroXMPn2uA",
        "outputId": "44851b17-6be0-49f0-897c-d97f4f47a67b"
      },
      "execution_count": 15,
      "outputs": [
        {
          "output_type": "stream",
          "name": "stdout",
          "text": [
            "+-------------------+------------------+------------------+------------------+------------------+---------+------------------+\n",
            "|               Date|              Open|              High|               Low|             Close|   Volume|         Adj Close|\n",
            "+-------------------+------------------+------------------+------------------+------------------+---------+------------------+\n",
            "|2010-01-04 00:00:00|        213.429998|        214.499996|212.38000099999996|        214.009998|123432400|         27.727039|\n",
            "|2010-01-05 00:00:00|        214.599998|        215.589994|        213.249994|        214.379993|150476200|27.774976000000002|\n",
            "|2010-01-06 00:00:00|        214.379993|            215.23|        210.750004|        210.969995|138040000|27.333178000000004|\n",
            "|2010-01-07 00:00:00|            211.75|        212.000006|        209.050005|            210.58|119282800|          27.28265|\n",
            "|2010-01-08 00:00:00|        210.299994|        212.000006|209.06000500000002|211.98000499999998|111902700|         27.464034|\n",
            "|2010-01-11 00:00:00|212.79999700000002|        213.000002|        208.450005|210.11000299999998|115557400|         27.221758|\n",
            "|2010-01-12 00:00:00|209.18999499999998|209.76999500000002|        206.419998|        207.720001|148614900|          26.91211|\n",
            "|2010-01-13 00:00:00|        207.870005|210.92999500000002|        204.099998|        210.650002|151473000|          27.29172|\n",
            "|2010-01-14 00:00:00|210.11000299999998|210.45999700000002|        209.020004|            209.43|108223500|         27.133657|\n",
            "|2010-01-15 00:00:00|210.92999500000002|211.59999700000003|        205.869999|            205.93|148516900|26.680197999999997|\n",
            "|2010-01-19 00:00:00|        208.330002|215.18999900000003|        207.240004|        215.039995|182501900|27.860484999999997|\n",
            "|2010-01-20 00:00:00|        214.910006|        215.549994|        209.500002|            211.73|153038200|         27.431644|\n",
            "|2010-01-21 00:00:00|        212.079994|213.30999599999998|        207.210003|        208.069996|152038600|         26.957455|\n",
            "|2010-01-22 00:00:00|206.78000600000001|        207.499996|            197.16|            197.75|220441900|         25.620401|\n",
            "|2010-01-25 00:00:00|202.51000200000001|        204.699999|        200.190002|        203.070002|266424900|26.309658000000002|\n",
            "|2010-01-26 00:00:00|205.95000100000001|        213.710005|        202.580004|        205.940001|466777500|         26.681494|\n",
            "|2010-01-27 00:00:00|        206.849995|            210.58|        199.530001|        207.880005|430642100|26.932840000000002|\n",
            "|2010-01-28 00:00:00|        204.930004|        205.500004|        198.699995|        199.289995|293375600|25.819922000000002|\n",
            "|2010-01-29 00:00:00|        201.079996|        202.199995|        190.250002|        192.060003|311488100|         24.883208|\n",
            "|2010-02-01 00:00:00|192.36999699999998|             196.0|191.29999899999999|        194.729998|187469100|         25.229131|\n",
            "+-------------------+------------------+------------------+------------------+------------------+---------+------------------+\n",
            "only showing top 20 rows\n",
            "\n"
          ]
        }
      ]
    },
    {
      "cell_type": "code",
      "source": [
        "df.head(3)[1]"
      ],
      "metadata": {
        "colab": {
          "base_uri": "https://localhost:8080/"
        },
        "id": "QWf2Pc0Kn6VI",
        "outputId": "28078f2a-927a-40f9-c632-69c589686636"
      },
      "execution_count": 16,
      "outputs": [
        {
          "output_type": "execute_result",
          "data": {
            "text/plain": [
              "Row(_c0='Chelsea Taylor', _c1='46.0', _c2='1-431-660-1615x8629', _c3='064 Stone Neck Apt. 766', _c4=None, _c5=None, _c6=None)"
            ]
          },
          "metadata": {},
          "execution_count": 16
        }
      ]
    },
    {
      "cell_type": "code",
      "source": [
        "# data.filter('Close < 500').select(['Open','Close']).show()"
      ],
      "metadata": {
        "id": "50GQ5PM4oXLp"
      },
      "execution_count": 17,
      "outputs": []
    },
    {
      "cell_type": "code",
      "source": [
        "data.filter(data['Close']< 500).select('Volume').show()"
      ],
      "metadata": {
        "colab": {
          "base_uri": "https://localhost:8080/"
        },
        "id": "ttn4CI7Go1zB",
        "outputId": "43b58b56-be2d-45b2-faac-959b56162563"
      },
      "execution_count": 18,
      "outputs": [
        {
          "output_type": "stream",
          "name": "stdout",
          "text": [
            "+---------+\n",
            "|   Volume|\n",
            "+---------+\n",
            "|123432400|\n",
            "|150476200|\n",
            "|138040000|\n",
            "|119282800|\n",
            "|111902700|\n",
            "|115557400|\n",
            "|148614900|\n",
            "|151473000|\n",
            "|108223500|\n",
            "|148516900|\n",
            "|182501900|\n",
            "|153038200|\n",
            "|152038600|\n",
            "|220441900|\n",
            "|266424900|\n",
            "|466777500|\n",
            "|430642100|\n",
            "|293375600|\n",
            "|311488100|\n",
            "|187469100|\n",
            "+---------+\n",
            "only showing top 20 rows\n",
            "\n"
          ]
        }
      ]
    },
    {
      "cell_type": "code",
      "source": [
        "data.filter( (data['Close']<200) & (data['Open']>200) ).show()"
      ],
      "metadata": {
        "colab": {
          "base_uri": "https://localhost:8080/"
        },
        "id": "zxzoVIMhpduK",
        "outputId": "b5a2da12-a648-4f71-cadb-2bd8aa1e5d07"
      },
      "execution_count": 22,
      "outputs": [
        {
          "output_type": "stream",
          "name": "stdout",
          "text": [
            "+-------------------+------------------+----------+----------+----------+---------+------------------+\n",
            "|               Date|              Open|      High|       Low|     Close|   Volume|         Adj Close|\n",
            "+-------------------+------------------+----------+----------+----------+---------+------------------+\n",
            "|2010-01-22 00:00:00|206.78000600000001|207.499996|    197.16|    197.75|220441900|         25.620401|\n",
            "|2010-01-28 00:00:00|        204.930004|205.500004|198.699995|199.289995|293375600|25.819922000000002|\n",
            "|2010-01-29 00:00:00|        201.079996|202.199995|190.250002|192.060003|311488100|         24.883208|\n",
            "+-------------------+------------------+----------+----------+----------+---------+------------------+\n",
            "\n"
          ]
        }
      ]
    },
    {
      "cell_type": "code",
      "source": [],
      "metadata": {
        "id": "LMm2FC-UqiF0"
      },
      "execution_count": null,
      "outputs": []
    }
  ]
}